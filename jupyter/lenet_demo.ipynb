{
 "cells": [
  {
   "cell_type": "code",
   "execution_count": 9,
   "id": "73102851",
   "metadata": {},
   "outputs": [
    {
     "data": {
      "text/html": [
       "<style type='text/css'>\n",
       ".CodeMirror{\n",
       "    font-size: 16px;\n",
       "    font-family:Consolas\n",
       "}\n",
       "\n",
       "div.output_area pre {\n",
       "    font-size: 16px;\n",
       "    font-family:Consolas\n",
       "}\n",
       "</style>\n"
      ],
      "text/plain": [
       "<IPython.core.display.HTML object>"
      ]
     },
     "metadata": {},
     "output_type": "display_data"
    }
   ],
   "source": [
    "%%html\n",
    "<style type='text/css'>\n",
    ".CodeMirror{\n",
    "    font-size: 16px;\n",
    "    font-family:Consolas\n",
    "}\n",
    "\n",
    "div.output_area pre {\n",
    "    font-size: 16px;\n",
    "    font-family:Consolas\n",
    "}\n",
    "</style>"
   ]
  },
  {
   "cell_type": "markdown",
   "id": "102d88a6",
   "metadata": {},
   "source": [
    "## Import Packages"
   ]
  },
  {
   "cell_type": "code",
   "execution_count": 1,
   "id": "e91b40e4",
   "metadata": {},
   "outputs": [],
   "source": [
    "from pynq import Overlay\n",
    "from pynq import allocate\n",
    "from pynq import DefaultIP\n",
    "import cv2\n",
    "import time"
   ]
  },
  {
   "cell_type": "markdown",
   "id": "46d94ece",
   "metadata": {},
   "source": [
    "## Data Loader"
   ]
  },
  {
   "cell_type": "code",
   "execution_count": 2,
   "id": "3e36250d",
   "metadata": {},
   "outputs": [],
   "source": [
    "import numpy as np\n",
    "import struct\n",
    "from array import array\n",
    "from os.path import join\n",
    "\n",
    "class MnistDataloader(object):\n",
    "    def __init__(self, training_images_filepath,training_labels_filepath,\n",
    "                 test_images_filepath, test_labels_filepath):\n",
    "        self.training_images_filepath = training_images_filepath\n",
    "        self.training_labels_filepath = training_labels_filepath\n",
    "        self.test_images_filepath = test_images_filepath\n",
    "        self.test_labels_filepath = test_labels_filepath\n",
    "    \n",
    "    def read_images_labels(self, images_filepath, labels_filepath):        \n",
    "        labels = []\n",
    "        with open(labels_filepath, 'rb') as file:\n",
    "            magic, size = struct.unpack(\">II\", file.read(8))\n",
    "            if magic != 2049:\n",
    "                raise ValueError('Magic number mismatch, expected 2049, got {}'.format(magic))\n",
    "            labels = array(\"B\", file.read())        \n",
    "        \n",
    "        with open(images_filepath, 'rb') as file:\n",
    "            magic, size, rows, cols = struct.unpack(\">IIII\", file.read(16))\n",
    "            if magic != 2051:\n",
    "                raise ValueError('Magic number mismatch, expected 2051, got {}'.format(magic))\n",
    "            image_data = array(\"B\", file.read())        \n",
    "        images = []\n",
    "        for i in range(size):\n",
    "            images.append([0] * rows * cols)\n",
    "        for i in range(size):\n",
    "            img = np.array(image_data[i * rows * cols:(i + 1) * rows * cols])\n",
    "            img = img.reshape(28, 28)\n",
    "            images[i][:] = img            \n",
    "        \n",
    "        return images, labels\n",
    "            \n",
    "    def load_data(self):\n",
    "        x_train, y_train = self.read_images_labels(self.training_images_filepath, self.training_labels_filepath)\n",
    "        x_test, y_test = self.read_images_labels(self.test_images_filepath, self.test_labels_filepath)\n",
    "        return (x_train, y_train),(x_test, y_test)      "
   ]
  },
  {
   "cell_type": "code",
   "execution_count": 3,
   "id": "0ad2c903",
   "metadata": {},
   "outputs": [],
   "source": [
    "%matplotlib inline\n",
    "import random\n",
    "import matplotlib.pyplot as plt\n",
    "\n",
    "input_path = './'\n",
    "training_images_filepath = join(input_path, 'train-images-idx3-ubyte/train-images.idx3-ubyte')\n",
    "training_labels_filepath = join(input_path, 'train-labels-idx1-ubyte/train-labels.idx1-ubyte')\n",
    "test_images_filepath = join(input_path, 't10k-images-idx3-ubyte/t10k-images.idx3-ubyte')\n",
    "test_labels_filepath = join(input_path, 't10k-labels-idx1-ubyte/t10k-labels.idx1-ubyte')\n",
    "\n",
    "def show_images(images, title_texts):\n",
    "    cols = 5\n",
    "    rows = int(len(images)/cols) + 1\n",
    "    plt.figure(figsize=(30,20))\n",
    "    index = 1    \n",
    "    for x in zip(images, title_texts):        \n",
    "        image = x[0]        \n",
    "        title_text = x[1]\n",
    "        plt.subplot(rows, cols, index)        \n",
    "        plt.imshow(image, cmap=plt.cm.gray)\n",
    "        if (title_text != ''):\n",
    "            plt.title(title_text, fontsize = 15);        \n",
    "        index += 1\n",
    "\n",
    "mnist_dataloader = MnistDataloader(training_images_filepath, training_labels_filepath, test_images_filepath, test_labels_filepath)\n",
    "(x_train, y_train), (x_test, y_test) = mnist_dataloader.load_data()"
   ]
  },
  {
   "cell_type": "markdown",
   "id": "a0772668",
   "metadata": {},
   "source": [
    "## Upsample to 32"
   ]
  },
  {
   "cell_type": "code",
   "execution_count": 4,
   "id": "5c81ab05",
   "metadata": {},
   "outputs": [],
   "source": [
    "images_50 = []\n",
    "for img in x_test[0:50]:\n",
    "    img = np.array(img, dtype='u1')\n",
    "    images_50.append(cv2.resize(img, dsize=(32, 32), interpolation=cv2.INTER_LINEAR_EXACT))"
   ]
  },
  {
   "cell_type": "markdown",
   "id": "46e68e38",
   "metadata": {},
   "source": [
    "## IP Driver"
   ]
  },
  {
   "cell_type": "code",
   "execution_count": 5,
   "id": "05d00b94",
   "metadata": {},
   "outputs": [],
   "source": [
    "class LeNetDriver(DefaultIP):\n",
    "    bindto = [\"xilinx.com:hls:lenet:1.0\"]\n",
    "    def __init__(self, description):\n",
    "        super().__init__(description=description)\n",
    "        self.img_in = 0x18\n",
    "        self.ap_ctrl = 0x00\n",
    "        self.ap_return = 0x10\n",
    "        self.img_size = 32\n",
    "        self.img_in_buf_1 = allocate(shape=(self.img_size, self.img_size), dtype='u1')\n",
    "        self.img_in_buf_2 = allocate(shape=(self.img_size, self.img_size), dtype='u1')\n",
    "\n",
    "    def predict(self, img_in):\n",
    "        self.write(self.img_in, self.img_in_buf_1.physical_address)\n",
    "        np.copyto(self.img_in_buf_1, np.uint8(img_in))\n",
    "        \n",
    "        self.write(self.ap_ctrl, 0x01)\n",
    "        while self.read(self.ap_ctrl) == 0x01:\n",
    "            pass\n",
    "        \n",
    "        return self.read(self.ap_return)\n",
    "    \n",
    "    # double buffer implementation for batch prediction\n",
    "    def batch_predict(self, img_in):\n",
    "        flag = False\n",
    "        output = np.zeros(len(img_in), dtype=int)\n",
    "        \n",
    "        self.write(self.img_in, self.img_in_buf_1.physical_address)\n",
    "        np.copyto(self.img_in_buf_1, np.uint8(img_in[0]))\n",
    "        \n",
    "        for i in range(1, len(img_in)):\n",
    "            self.write(self.ap_ctrl, 0x01)\n",
    "            current_buf = self.img_in_buf_1 if flag else self.img_in_buf_2\n",
    "            self.write(self.img_in, current_buf.physical_address)\n",
    "            np.copyto(current_buf, np.uint8(img_in[i]))\n",
    "            while self.read(self.ap_ctrl) == 0x01:\n",
    "                pass\n",
    "            output[i-1] = self.read(self.ap_return)\n",
    "            flag = not flag\n",
    "            \n",
    "        self.write(self.ap_ctrl, 0x01)\n",
    "        while self.read(self.ap_ctrl) == 0x01:\n",
    "            pass\n",
    "        output[len(img_in)-1] = self.read(self.ap_return)\n",
    "        \n",
    "        return output"
   ]
  },
  {
   "cell_type": "markdown",
   "id": "6420dc4d",
   "metadata": {},
   "source": [
    "# Call IP"
   ]
  },
  {
   "cell_type": "code",
   "execution_count": 8,
   "id": "1682512d",
   "metadata": {},
   "outputs": [
    {
     "name": "stdout",
     "output_type": "stream",
     "text": [
      "[7 2 1 0 4 1 4 9 5 9 0 6 9 0 1 5 9 7 3 4 9 6 6 5 4 0 7 4 0 1 3 1 3 4 7 2 7\n",
      " 1 2 1 1 7 4 2 3 5 1 2 4 4]\n",
      "Elapsed time: 113.72 ms\n",
      "accuracy = 100.00 %\n"
     ]
    }
   ],
   "source": [
    "overlay = Overlay(\"lenet_hls_fp32_10ns.bit\")\n",
    "\n",
    "lenet = overlay.lenet_0\n",
    "\n",
    "st = time.time()\n",
    "output = lenet.batch_predict(images_50)\n",
    "et = time.time()\n",
    "print(output)\n",
    "print(\"Elapsed time: %.2f ms\" % ((et - st) * 1000))\n",
    "\n",
    "standard = [7, 2, 1, 0, 4, 1, 4, 9, 5, 9, 0, 6, 9, 0, 1, 5, 9, 7, 3, 4, 9, 6, 6, 5, 4, 0, 7, 4, 0, 1, 3, 1, 3, 4, 7, 2, 7, 1, 2, 1, 1, 7, 4, 2, 3, 5, 1, 2, 4, 4]\n",
    "\n",
    "coincide = 0\n",
    "for i in range(50):\n",
    "    if (standard[i] == output[i]):\n",
    "        coincide += 1\n",
    "accuracy = coincide / 50\n",
    "print(\"accuracy = %.2f %%\" % (accuracy * 100))"
   ]
  },
  {
   "cell_type": "markdown",
   "id": "98eb33a4",
   "metadata": {},
   "source": [
    "# INT8"
   ]
  },
  {
   "cell_type": "code",
   "execution_count": 16,
   "id": "6abb11d5",
   "metadata": {},
   "outputs": [
    {
     "name": "stdout",
     "output_type": "stream",
     "text": [
      "[7 2 1 0 4 1 4 9 5 9 0 6 9 0 1 5 9 7 3 4 9 6 6 5 4 0 7 4 0 1 3 1 3 4 7 2 7\n",
      " 1 2 8 1 7 4 2 3 5 1 2 9 4]\n",
      "Elapsed time: 119.42 ms\n",
      "accuracy = 96.00 %\n"
     ]
    }
   ],
   "source": [
    "overlay = Overlay(\"lenet_hls_int8_10ns.bit\")\n",
    "\n",
    "lenet = overlay.lenet_0\n",
    "\n",
    "st = time.time()\n",
    "output = lenet.batch_predict(images_50)\n",
    "et = time.time()\n",
    "print(output)\n",
    "print(\"Elapsed time: %.2f ms\" % ((et - st) * 1000))\n",
    "\n",
    "standard = [7, 2, 1, 0, 4, 1, 4, 9, 5, 9, 0, 6, 9, 0, 1, 5, 9, 7, 3, 4, 9, 6, 6, 5, 4, 0, 7, 4, 0, 1, 3, 1, 3, 4, 7, 2, 7, 1, 2, 1, 1, 7, 4, 2, 3, 5, 1, 2, 4, 4]\n",
    "\n",
    "coincide = 0\n",
    "for i in range(50):\n",
    "    if (standard[i] == output[i]):\n",
    "        coincide += 1\n",
    "accuracy = coincide / 50\n",
    "print(\"accuracy = %.2f %%\" % (accuracy * 100))"
   ]
  }
 ],
 "metadata": {
  "kernelspec": {
   "display_name": "Python 3 (ipykernel)",
   "language": "python",
   "name": "python3"
  },
  "language_info": {
   "codemirror_mode": {
    "name": "ipython",
    "version": 3
   },
   "file_extension": ".py",
   "mimetype": "text/x-python",
   "name": "python",
   "nbconvert_exporter": "python",
   "pygments_lexer": "ipython3",
   "version": "3.10.4"
  }
 },
 "nbformat": 4,
 "nbformat_minor": 5
}
